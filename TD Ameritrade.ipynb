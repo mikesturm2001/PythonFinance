{
 "cells": [
  {
   "cell_type": "code",
   "execution_count": 1,
   "metadata": {},
   "outputs": [],
   "source": [
    "import requests\n",
    "import tdAuth\n",
    "import config"
   ]
  },
  {
   "cell_type": "code",
   "execution_count": 2,
   "metadata": {},
   "outputs": [
    {
     "name": "stdout",
     "output_type": "stream",
     "text": [
      "http://localhost\n"
     ]
    }
   ],
   "source": [
    "print(config.url)"
   ]
  },
  {
   "cell_type": "code",
   "execution_count": 3,
   "metadata": {},
   "outputs": [
    {
     "name": "stdout",
     "output_type": "stream",
     "text": [
      "after giving access, hit enter to continuehttps://localhost/?code=YwgurTJ0hj9G%2FhpgGadCo7tTV7AXR5zfNLMxBZd1L1PY6Ytxg%2FQItUIwoV3MplwaD2iZ4vJXgAknV3Vc363DKmOuJfY7Ym3BXhDG%2FDOx5Ou%2F9ZDpt%2FjxIEQQfPEyYE9C678CoNGl8bio1P3pNzkM6n4cQxmMI66DXLdJBMKlCuizUPMRvJ7%2BipsUKrHRcM57fWPU%2FzWY6%2F5FvSo6iHkSEL0WB5RxTDqPnlQIoGvm%2Fw0gkFeUp82FEsQYlnzFcN5%2F3w5ZX6D6Gj2zu1DkpcAIJPSo8KjfXVGzqbE7q6v1PCoI6aFpBNawAsHHL6yLeasYdy5k5UU8xJr6jP2BSkWdTKWA%2Fs5qgMXm7pLA5JVummawnxNbdcbNEkfexRypCCX9sRRlutYV14RldAsoXW4WqmnPtkbcMS6FiDq8mCOCaMxgGoPwN7bVS4eDkuR100MQuG4LYrgoVi%2FJHHvlDlvpBmVWuCjwx1ePoofmKRDCqxNs1MePb8y6GpiMc24LcsTYtFnT7rlfdt%2FfTV4gvlvsgF8eTwFi3m6UkW186P0WwaDQm7OC3ilc9yvaJjvqny7S%2FS%2BEIE%2Fhs%2F%2Bh3Ezy94DaJ6qNc1mCAi1jz3pcWuka94akjBJs0bXA2geZN8MvPIWbkPrpm51I5FYwnhlFjxw97abjAKSHMI0eaSgjSXLfoOcdvB8r412KpeB7M%2B7MPYpY9owCnYtSuwSO%2FtrKu3HTUkKejO6I6WxIB33%2BSX6gKVCJmSynO6O26hjLLwLZNR%2FUXU9mEGbE%2BLGJykPVbyW0IXRUvKPfoyZuyJLwIkXGWBQpfHWj%2BNNAnw5U%2FH3JCIBQheVl4Ok6lFXIkB0%2B86%2BkTxTj7JbrjIHMEjoDjCbvFpVBGT90DroRPa1Bd9WedxiyMbkF9abA1iY%3D212FD3x19z9sWBHDJACbC00B75E\n"
     ]
    }
   ],
   "source": [
    "response = tdAuth.authentication(config.client_id, config.url, config.account_username, config.account_password)"
   ]
  },
  {
   "cell_type": "code",
   "execution_count": 4,
   "metadata": {},
   "outputs": [
    {
     "name": "stdout",
     "output_type": "stream",
     "text": [
      "{'access_token': 'nm1ZCeFOXR0fvRV8ZjQF+lwTkY/0K4SCf+X1tghgtS0vO0xKxT/rGemP8UvJfzvvid6hN9pTf17ElHDMnoLQHqYkk4tAkVOxO2PA6YKUSs8QuFt//tUZxLVaODNC+F5Cvajwg/wIz8AgwgfztcDPRZHPHIbLrOmzP6kX2Eiq3YcsvrP9Ntk1MAEyGFaAn0+nkNQjHgxCQvnVVkKkjhwN67HWKT2jAnr1KCzJjrsTguM4tb3jkfyZu57lfgpRxngVRwokCNjHabICf0mfTkzbgBfTJrxyoI/5hBhD2x4gNyqmPuHhVvUGAO4BQu47YeWYFzSZNwuH4h1+7Z4yiwFRAoYTG5dWjjYvgR6eFk3tYKUB82kxK4yo0Fs6D32gyLGiid5OrI04LZIUX1CADcOlJgK98ZoI9jH6vwHU3Exx6e6NjucZWTo3QrdzZQPD0PdnPmo6jbDtFxCMjmWrCKRdk+BFEWN0tMrGXPihmdCcNjRPqoBTv83OemOBOb6VyJiB6KydKZBkbHnKI2jxSnCTvbDTh54X4atC2NvJZ100MQuG4LYrgoVi/JHHvl0AHm/fuoPv0BVJcJEv0e6lChfE3l08IH1w31w5A2xwDk/CFz0kLwFmT4SNxONV9T+rk+XDI9CjD8lhlvyOWvMQIJolKUorDRA6R4IzCz9dF249V/huFYWEbCXit6h3QhEvA6Q2XSlRUAqRzcGYXAYpSgc07x38wmn6PlXDE2qgp7MmB8+WSjYlupD9Qahgwy7h1VXtYb7/nDIbpZjxjSSwbyBERmVRcfSvUPsG3KhXcs1G13Du4TTtnUjsPUKKJ7cyYfD4ZTfo5V8A1z4uvNCQrqAtvPkxb/lbIg1Fhn9uK8LeqXPaVA1lm1lfi1VkrvItrvnAdrRj5MeSoqFTTi35zdRvFqB/hs6dYU9L+IuGrW7AZ4t5smAoAwLq8h7qbZcgq8o+PTtvD/fdnANmpZZzXgUJTXHkb6c3aStHsXl2bGGqvB53qZO3+jx/qIwW2ixp+HjHN5ybe0yj+yIyjfVWnlkYAQFmjzlPqYbCLA/ikibFMVHRDTcWrrYRwWVKNXAQgmGKAWsc9gawWVOGMLichzBk+7npct9U55DP212FD3x19z9sWBHDJACbC00B75E', 'refresh_token': 'JIazyt+bvxUmlYXVYjKWCCqGoSeR85FKcEwBhPWekFuG4NUqlATm6rvnBpmHBJK4r783+MkTue85M4X9Umy4hxDvZHdANXtKUXZAsTRp/nJhUFh03jHggemBCHEvrtGCWGpzrKy12O1Rf9aRvAUl6c7Khwd4ikkocOiDErVe1/PGNQPQ0ciqqPtcyginY+s3/qVXRw3X13FfjmP9DKdW8hhN7L5HNpNtELd07zME1Oi3FEeyZYI3uI4Z9IO/gfR+I+yPtVaeUHl0LYfbXnqkY683JhzVbVf5tJ1pnsmlTa30bL26ez/9gGUWyI/T4FwSkcEMswNJcK5QdriFPwlhmj1E5XnniftaX16As/LkJQEL06LXmV3lv/4MNWshJ/BqOAB5h0WMZI2jfx3YYddAd+qyw/s5JlkHt3qr3RP50wonL/V/LR4Fzbu2sSu100MQuG4LYrgoVi/JHHvl6STzQdyhH79wbSo8wRnWRZamtZ8WuZhxNMBA9bdgLHL722IWHj3E+mzb7RQ+AIdxodiOQwHEX9HTv2r3UJqZGQY4KWk6thRlUKhh/f/iugsvjI3prd94LjUfb8lJSe/avPwhwNdatGmy9lJOf3v4Pnij3rLVcpfTB0a978xVma7LNJO/CdWO9VvEh1sAJsfdJUfUnD0OyfJE7HJmBPDEQjr+PbNUVTnaLwlKoZ2/O6An1rt8yYnNd4s1mt1cf28fDn0BZsTYUY7o4EhjUUH/my/vqe1FxCifo9VZJax+UDmj/qqtR7oaATksm43cMS9NfaRhukUGPaXjQ4MqnIXE/ii627CxrYCl8dznu1tVMehAHJUNSwS9W6kW2fOnXwak1EcCbKDON1RQF97dWFdbTG9Pc1j34wEvUUXGAw+Zyqpnr4+J58I5wHBuuCE=212FD3x19z9sWBHDJACbC00B75E', 'scope': 'PlaceTrades AccountAccess MoveMoney', 'expires_in': 1800, 'refresh_token_expires_in': 7776000, 'token_type': 'Bearer'}\n"
     ]
    }
   ],
   "source": [
    "print(response)"
   ]
  },
  {
   "cell_type": "code",
   "execution_count": 6,
   "metadata": {},
   "outputs": [
    {
     "name": "stdout",
     "output_type": "stream",
     "text": [
      "<Response [200]>\n"
     ]
    }
   ],
   "source": [
    "#define the endpoints\n",
    "endpoint = \"https://api.tdameritrade.com/v1/marketdata/{}/pricehistory\".format('GOOG')\n",
    "\n",
    "#define payload\n",
    "body = {'apikey': config.client_id,\n",
    "       'periodType':'day',\n",
    "       'frequencyType':'minute',\n",
    "       'frequency' : '1',\n",
    "       'period': '2',\n",
    "       'endDate' : '1577424495',\n",
    "       'startDate' : '1577424490'}\n",
    "\n",
    "content = requests.get(url = endpoint, params = body)\n",
    "\n",
    "print(content)"
   ]
  },
  {
   "cell_type": "code",
   "execution_count": null,
   "metadata": {},
   "outputs": [],
   "source": []
  }
 ],
 "metadata": {
  "kernelspec": {
   "display_name": "Python 3",
   "language": "python",
   "name": "python3"
  },
  "language_info": {
   "codemirror_mode": {
    "name": "ipython",
    "version": 3
   },
   "file_extension": ".py",
   "mimetype": "text/x-python",
   "name": "python",
   "nbconvert_exporter": "python",
   "pygments_lexer": "ipython3",
   "version": "3.6.8"
  }
 },
 "nbformat": 4,
 "nbformat_minor": 2
}
